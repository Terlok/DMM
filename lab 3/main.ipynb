{
 "cells": [
  {
   "cell_type": "markdown",
   "metadata": {},
   "source": [
    "## Варіант №4\n",
    "\n",
    "$\n",
    "f(x_1, x_2)=2x_1+3x_2 \\rightarrow min; \\\\\n",
    "x_1 + 2x_2 \\geqslant \\approx 2, \\\\\n",
    "2x_1 + 5x_2  \\leqslant \\approx 10, \\\\\n",
    "12x_1 + 8x_2 \\leqslant \\approx 24, \\\\\n",
    "x_1,\\: x_2 \\geqslant  0.\n",
    "$\n",
    "\n",
    "$\n",
    "\\mu(x)=\n",
    "\\begin{cases}\n",
    "0.0, \\: (-x_1 + -2x_2 \\geqslant 0)\\: \\& \\:(2x_1 + 5x_2  \\geqslant 12)\\: \\& \\:(12x_1 + 8x_2 \\geqslant 26) \\\\\n",
    "0.5, \\: (-1 \\leqslant x_1 + 2x_2 \\leqslant 0)\\: \\& \\:(11 \\leqslant 2x_1 + 5x_2  \\leqslant 12)\\: \\& \\:(25 \\leqslant 12x_1 + 8x_2 \\leqslant 26) \\\\\n",
    "0.7, \\: (-2 \\leqslant x_1 + 2x_2 \\leqslant -1)\\: \\& \\:(10 \\leqslant 2x_1 + 5x_2  \\leqslant 11)\\: \\& \\:(24 \\leqslant 12x_1 + 8x_2 \\leqslant 25) \\\\\n",
    "1.0, \\: (-x_1 + -2x_2 \\leqslant -2)\\: \\& \\:(2x_1 + 5x_2  \\leqslant 10)\\: \\& \\:(12x_1 + 8x_2 \\leqslant 24)\n",
    "\\end{cases}\n",
    "$"
   ]
  },
  {
   "cell_type": "markdown",
   "metadata": {},
   "source": [
    "#### При $\\lambda_1=0.5$ маємо:\n",
    "$\n",
    "f(x_1, x_2)=2x_1+3x_2 \\rightarrow min; \\\\\n",
    "-x_1 - 2x_2 \\leqslant 0, \\\\\n",
    "2x_1 + 5x_2  \\leqslant 12, \\\\\n",
    "12x_1 + 8x_2 \\leqslant 26, \\\\\n",
    "x_1,\\: x_2 \\geqslant  0.\n",
    "$"
   ]
  },
  {
   "cell_type": "code",
   "execution_count": 26,
   "metadata": {},
   "outputs": [],
   "source": [
    "from scipy.optimize import linprog"
   ]
  },
  {
   "cell_type": "code",
   "execution_count": 27,
   "metadata": {},
   "outputs": [
    {
     "name": "stdout",
     "output_type": "stream",
     "text": [
      "Function value: 0.0\n",
      "(x_1, x_2): [0. 0.]\n"
     ]
    }
   ],
   "source": [
    "c = [2, 3]\n",
    "A = [[-1, -2],\n",
    "     [2, 5],\n",
    "     [12, 8],\n",
    "     ]\n",
    "b = [0, 12, 26]\n",
    "x_1, x_2 = (0, None), (0, None)\n",
    "\n",
    "solution = linprog(c, A_ub=A, b_ub=b, bounds=[x_1, x_2], method='highs')\n",
    "\n",
    "print('Function value:', solution.fun)\n",
    "print('(x_1, x_2):', solution.x)"
   ]
  },
  {
   "cell_type": "markdown",
   "metadata": {},
   "source": [
    "#### При $\\lambda_1=0.7$ маємо:\n",
    "$\n",
    "f(x_1, x_2)=2x_1+3x_2 \\rightarrow min; \\\\\n",
    "-x_1 - 2x_2 \\leqslant -1, \\\\\n",
    "2x_1 + 5x_2  \\leqslant 11, \\\\\n",
    "12x_1 + 8x_2 \\leqslant 25, \\\\\n",
    "x_1,\\: x_2 \\geqslant  0.\n",
    "$"
   ]
  },
  {
   "cell_type": "code",
   "execution_count": 28,
   "metadata": {},
   "outputs": [
    {
     "name": "stdout",
     "output_type": "stream",
     "text": [
      "Function value: 1.5\n",
      "(x_1, x_2): [0.  0.5]\n"
     ]
    }
   ],
   "source": [
    "c = [2, 3]\n",
    "A = [[-1, -2],\n",
    "     [2, 5],\n",
    "     [12, 8]\n",
    "     ]\n",
    "b = [-1, 11, 25]\n",
    "x_1, x_2 = (0, None), (0, None)\n",
    "\n",
    "solution = linprog(c, A_ub=A, b_ub=b, bounds=[x_1, x_2], method='highs')\n",
    "\n",
    "print('Function value:', solution.fun)\n",
    "print('(x_1, x_2):', solution.x)"
   ]
  },
  {
   "cell_type": "markdown",
   "metadata": {},
   "source": [
    "#### При $\\lambda_1=1$ маємо:\n",
    "$\n",
    "f(x_1, x_2)=2x_1+3x_2 \\rightarrow min; \\\\\n",
    "-x_1 - 2x_2 \\leqslant -2, \\\\\n",
    "2x_1 + 5x_2  \\leqslant 10, \\\\\n",
    "12x_1 + 8x_2 \\leqslant 24, \\\\\n",
    "x_1,\\: x_2 \\geqslant  0.\n",
    "$"
   ]
  },
  {
   "cell_type": "code",
   "execution_count": 29,
   "metadata": {},
   "outputs": [
    {
     "name": "stdout",
     "output_type": "stream",
     "text": [
      "Function value: 3.0\n",
      "(x_1, x_2): [0. 1.]\n"
     ]
    }
   ],
   "source": [
    "c = [2, 3]\n",
    "A = [[-1, -2],\n",
    "     [2, 5],\n",
    "     [12, 8],\n",
    "     ]\n",
    "b = [-2, 10, 24]\n",
    "x_1, x_2 = (0, None), (0, None)\n",
    "\n",
    "solution = linprog(c, A_ub=A, b_ub=b, bounds=[x_1, x_2], method='highs')\n",
    "\n",
    "print('Function value:', solution.fun)\n",
    "print('(x_1, x_2):', solution.x)"
   ]
  }
 ],
 "metadata": {
  "kernelspec": {
   "display_name": "Python 3",
   "language": "python",
   "name": "python3"
  },
  "language_info": {
   "codemirror_mode": {
    "name": "ipython",
    "version": 3
   },
   "file_extension": ".py",
   "mimetype": "text/x-python",
   "name": "python",
   "nbconvert_exporter": "python",
   "pygments_lexer": "ipython3",
   "version": "3.12.2"
  }
 },
 "nbformat": 4,
 "nbformat_minor": 2
}
