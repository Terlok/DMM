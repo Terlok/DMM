{
 "cells": [
  {
   "cell_type": "code",
   "execution_count": 38,
   "metadata": {},
   "outputs": [],
   "source": [
    "import numpy as np\n",
    "import matplotlib.pyplot as plt"
   ]
  },
  {
   "cell_type": "markdown",
   "metadata": {},
   "source": [
    "### Task 1"
   ]
  },
  {
   "cell_type": "code",
   "execution_count": 39,
   "metadata": {},
   "outputs": [
    {
     "name": "stdout",
     "output_type": "stream",
     "text": [
      "Матриця відношення R:\n",
      "[[0 0 0 0]\n",
      " [0 1 1 1]\n",
      " [0 1 1 1]\n",
      " [0 0 0 0]]\n"
     ]
    }
   ],
   "source": [
    "import numpy as np\n",
    "import matplotlib.pyplot as plt\n",
    "import networkx as nx\n",
    "\n",
    "# Відношення R\n",
    "R = {(2, 2), (2, 3), (2, 4), (3, 2), (3, 3), (3, 4)}\n",
    "\n",
    "# Множина A\n",
    "A = {1, 2, 3, 4}\n",
    "\n",
    "# Побудова матриці відношення R\n",
    "matrix_R = np.zeros((len(A), len(A)), dtype=int)\n",
    "\n",
    "for pair in R:\n",
    "    matrix_R[pair[0]-1][pair[1]-1] = 1\n",
    "\n",
    "print(\"Матриця відношення R:\")\n",
    "print(matrix_R)"
   ]
  },
  {
   "cell_type": "markdown",
   "metadata": {},
   "source": [
    "### Task 2"
   ]
  },
  {
   "cell_type": "code",
   "execution_count": 40,
   "metadata": {},
   "outputs": [
    {
     "name": "stdout",
     "output_type": "stream",
     "text": [
      "Перетин R^2 і R^{-1}:\n",
      "[(2, 3), (3, 2), (3, 3), (2, 2)]\n"
     ]
    }
   ],
   "source": [
    "# Обчислюємо R^2\n",
    "R_square = []\n",
    "\n",
    "for pair1 in R:\n",
    "    for pair2 in R:\n",
    "        if pair1[1] == pair2[0]:\n",
    "            R_square.append((pair1[0], pair2[1]))\n",
    "\n",
    "# Обчислюємо обернене відношення R\n",
    "R_inv = [(pair[1], pair[0]) for pair in R]\n",
    "\n",
    "# Знаходимо перетин R^2 і R_inv\n",
    "R_intersection = list(set(R_square) & set(R_inv))\n",
    "\n",
    "# Друк результату\n",
    "print(\"Перетин R^2 і R^{-1}:\")\n",
    "print(R_intersection)\n"
   ]
  },
  {
   "cell_type": "code",
   "execution_count": 41,
   "metadata": {},
   "outputs": [
    {
     "data": {
      "text/plain": [
       "array([[False, False, False, False],\n",
       "       [False,  True,  True, False],\n",
       "       [False,  True,  True, False],\n",
       "       [False, False, False, False]])"
      ]
     },
     "execution_count": 41,
     "metadata": {},
     "output_type": "execute_result"
    }
   ],
   "source": [
    "np.logical_and(np.dot(matrix_R, matrix_R), matrix_R.T)"
   ]
  }
 ],
 "metadata": {
  "kernelspec": {
   "display_name": "Python 3",
   "language": "python",
   "name": "python3"
  },
  "language_info": {
   "codemirror_mode": {
    "name": "ipython",
    "version": 3
   },
   "file_extension": ".py",
   "mimetype": "text/x-python",
   "name": "python",
   "nbconvert_exporter": "python",
   "pygments_lexer": "ipython3",
   "version": "3.10.8"
  }
 },
 "nbformat": 4,
 "nbformat_minor": 2
}
