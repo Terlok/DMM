{
 "cells": [
  {
   "cell_type": "markdown",
   "metadata": {},
   "source": [
    "# ФІ-12 Завалій Олександр\n",
    "## Варіант №4\n",
    "---\n",
    "$$\n",
    "R_1=\n",
    "\\begin{pmatrix}\n",
    "  1 & 0.3 & 0.4 & 0.5 & 0.1 \\\\\n",
    "  0.3 & 1 & 0.7 & 0.3 & 0.7 \\\\\n",
    "  0.9 & 0 & 1 & 0.9 & 0.7 \\\\\n",
    "  0.3 & 0.5 & 0.6 & 1 & 0.4 \\\\\n",
    "  0.2 & 0.5 & 0.7 & 0.9 & 1\n",
    "\\end{pmatrix}\n",
    "\\:\\:\\:\\:\\:\n",
    "R_2=\n",
    "\\begin{pmatrix}\n",
    "  1 & 0 & 1 & 0 & 0.6 \\\\\n",
    "  1 & 1 & 0.9 & 0.4 & 1 \\\\\n",
    "  0 & 0.7 & 1 & 0 & 0.7 \\\\\n",
    "  0.5 & 0.3 & 0 & 1 & 0.7 \\\\\n",
    "  1 & 0.9 & 0.8 & 0.3 & 1\n",
    "\\end{pmatrix}$$\n",
    "$\\lambda_1=0.5,\\:\\:\\lambda_2=0.5$"
   ]
  },
  {
   "cell_type": "code",
   "execution_count": 1,
   "metadata": {},
   "outputs": [],
   "source": [
    "import numpy as np"
   ]
  },
  {
   "cell_type": "code",
   "execution_count": 2,
   "metadata": {},
   "outputs": [],
   "source": [
    "R1 = np.array([\n",
    "    [1, 0.3, 0.4, 0.5, 0.1],\n",
    "    [0.3, 1, 0.7, 0.3, 0.7],\n",
    "    [0.9, 0, 1, 0.9, 0.7],\n",
    "    [0.3, 0.5, 0.6, 1, 0.4],\n",
    "    [0.2, 0.5, 0.7, 0.9, 1]\n",
    "])\n",
    "\n",
    "R2 = np.array([\n",
    "    [1, 0, 1, 0, 0.6],\n",
    "    [1, 1, 0.9, 0.4, 1],\n",
    "    [0, 0.7, 1, 0, 0.7],\n",
    "    [0.5, 0.3, 0, 1, 0.7],\n",
    "    [1, 0.9, 0.8, 0.3, 1]\n",
    "])"
   ]
  },
  {
   "cell_type": "code",
   "execution_count": 3,
   "metadata": {},
   "outputs": [
    {
     "name": "stdout",
     "output_type": "stream",
     "text": [
      "Fuzzy relation Q1:\n",
      "[[1.  0.  0.4 0.  0.1]\n",
      " [0.3 1.  0.7 0.3 0.7]\n",
      " [0.  0.  1.  0.  0.7]\n",
      " [0.3 0.3 0.  1.  0.4]\n",
      " [0.2 0.5 0.7 0.3 1. ]]\n",
      "\n",
      "A fuzzy subset of non-dominated alternatives (Q1):\n",
      "[0.6 0.3 1.  0.7 0.9]\n",
      "\n",
      "Fuzzy relation Q2:\n",
      "[[1.   0.15 0.7  0.25 0.35]\n",
      " [0.65 1.   0.8  0.35 0.85]\n",
      " [0.45 0.35 1.   0.45 0.7 ]\n",
      " [0.4  0.4  0.3  1.   0.55]\n",
      " [0.6  0.7  0.75 0.6  1.  ]]\n",
      "\n",
      "A fuzzy subset of non-dominated alternatives (Q2):\n",
      "[0.75 0.5  0.85 0.85 0.75]\n",
      "\n",
      "Intersection of sets:\n",
      "[0.6  0.3  0.85 0.7  0.75]\n",
      "\n",
      "Alternatives:\n",
      "[3]\n"
     ]
    }
   ],
   "source": [
    "Q1 = np.minimum(R1, R2)\n",
    "\n",
    "nu_Q1_1 = 1 - np.max(np.maximum(Q1 - Q1.T, 0), axis=1)\n",
    "\n",
    "lambda1 = 0.5\n",
    "lambda2 = 0.5\n",
    "\n",
    "Q2 = lambda1 * R1 + lambda2 * R2\n",
    "\n",
    "nu_Q2_1 = 1 - np.max(np.maximum(Q2 - Q2.T, 0), axis=1)\n",
    "\n",
    "nu_2 = np.minimum(nu_Q1_1, nu_Q2_1)\n",
    "\n",
    "max_nu_2 = np.max(nu_2)\n",
    "rational_choices = np.where(nu_2 == max_nu_2)[0]\n",
    "\n",
    "print('Fuzzy relation Q1:')\n",
    "print(Q1)\n",
    "print('\\nA fuzzy subset of non-dominated alternatives (Q1):')\n",
    "print(nu_Q1_1)\n",
    "print('\\nFuzzy relation Q2:')\n",
    "print(Q2)\n",
    "print('\\nA fuzzy subset of non-dominated alternatives (Q2):')\n",
    "print(nu_Q2_1)\n",
    "print('\\nIntersection of sets:')\n",
    "print(nu_2)\n",
    "print('\\nAlternatives:')\n",
    "print(rational_choices + 1)"
   ]
  }
 ],
 "metadata": {
  "kernelspec": {
   "display_name": "Python 3",
   "language": "python",
   "name": "python3"
  },
  "language_info": {
   "codemirror_mode": {
    "name": "ipython",
    "version": 3
   },
   "file_extension": ".py",
   "mimetype": "text/x-python",
   "name": "python",
   "nbconvert_exporter": "python",
   "pygments_lexer": "ipython3",
   "version": "3.12.2"
  }
 },
 "nbformat": 4,
 "nbformat_minor": 2
}
